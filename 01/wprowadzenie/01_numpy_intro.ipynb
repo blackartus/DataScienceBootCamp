{
  "nbformat": 4,
  "nbformat_minor": 0,
  "metadata": {
    "colab": {
      "provenance": [],
      "toc_visible": true,
      "authorship_tag": "ABX9TyMafl1KgEX8oYthXmREBfiF",
      "include_colab_link": true
    },
    "kernelspec": {
      "name": "python3",
      "display_name": "Python 3"
    },
    "language_info": {
      "name": "python"
    }
  },
  "cells": [
    {
      "cell_type": "markdown",
      "metadata": {
        "id": "view-in-github",
        "colab_type": "text"
      },
      "source": [
        "<a href=\"https://colab.research.google.com/github/blackartus/DataScienceBootCamp/blob/main/01/wprowadzenie/01_numpy_intro.ipynb\" target=\"_parent\"><img src=\"https://colab.research.google.com/assets/colab-badge.svg\" alt=\"Open In Colab\"/></a>"
      ]
    },
    {
      "cell_type": "markdown",
      "source": [
        "# NumPy\n",
        ">Strona Biblioteki: [https://numpy.org/](https://numpy.org/)\n",
        "\n",
        ">Dokumentacja: [https://numpy.org/doc/](https://numpy.org/doc/)\n",
        "\n",
        ">Podstawowa biblioteka do obliczeń numerycznych w języku Python.\n",
        "\n",
        ">Aby zainstalować bibliotekę NumPy, użyj polecenia:\n",
        "\n",
        "```\n",
        ">>> pip install numpy\n",
        "```\n",
        "\n",
        "\n",
        "# Spis Treści\n",
        "1. [Podstawy](#a1)\n",
        "2. [Typy Danych](#a2)\n",
        "3. [Tworzenie tablic](#a3)\n",
        "4. [Podstawowe operacje na tablicach](#a4)\n",
        "5. [Generowanie liczb pseudolosowych](#a5)\n",
        "6. [Podstawowe funkcje](#a6)\n",
        "7. [Indeksowanie, Wycinanie](#a7)\n",
        "8. [Iteracja po tablicach](#a8)\n",
        "9. [Zmiana rozmiaru tablic](#a9)\n",
        "10. [Algebra liniowa](#a10)"
      ],
      "metadata": {
        "id": "WRQwHRkQ8W80"
      }
    },
    {
      "cell_type": "markdown",
      "source": [
        "#Podstawy"
      ],
      "metadata": {
        "id": "wzdgZ5e0_OlK"
      }
    },
    {
      "cell_type": "code",
      "source": [
        "import numpy as np\n",
        "np.__version__"
      ],
      "metadata": {
        "colab": {
          "base_uri": "https://localhost:8080/",
          "height": 36
        },
        "id": "S4yi0fYoBjOZ",
        "outputId": "e9f8d75b-b4ff-4b2a-ecee-3ff7748a93e5"
      },
      "execution_count": 1,
      "outputs": [
        {
          "output_type": "execute_result",
          "data": {
            "text/plain": [
              "'1.22.4'"
            ],
            "application/vnd.google.colaboratory.intrinsic+json": {
              "type": "string"
            }
          },
          "metadata": {},
          "execution_count": 1
        }
      ]
    },
    {
      "cell_type": "markdown",
      "source": [
        "###1D Array"
      ],
      "metadata": {
        "id": "f3ABDE5-Bhn9"
      }
    },
    {
      "cell_type": "code",
      "source": [
        "x = np.array([1,2,3])\n",
        "x"
      ],
      "metadata": {
        "colab": {
          "base_uri": "https://localhost:8080/"
        },
        "id": "CbilPNSuLEf4",
        "outputId": "be3eaafe-e41d-43f1-ce6f-33a55f742690"
      },
      "execution_count": 2,
      "outputs": [
        {
          "output_type": "execute_result",
          "data": {
            "text/plain": [
              "array([1, 2, 3])"
            ]
          },
          "metadata": {},
          "execution_count": 2
        }
      ]
    },
    {
      "cell_type": "code",
      "source": [
        "type(x) # zwróci typ obiektu"
      ],
      "metadata": {
        "colab": {
          "base_uri": "https://localhost:8080/"
        },
        "id": "Elz2mWx0LMbj",
        "outputId": "6e59ca34-9301-4d86-c9d9-c2debc05d7b3"
      },
      "execution_count": 3,
      "outputs": [
        {
          "output_type": "execute_result",
          "data": {
            "text/plain": [
              "numpy.ndarray"
            ]
          },
          "metadata": {},
          "execution_count": 3
        }
      ]
    },
    {
      "cell_type": "code",
      "source": [
        "x.shape # zwróci kształt tablicy. Tutaj 1 wiersz z trzema kolumnami"
      ],
      "metadata": {
        "colab": {
          "base_uri": "https://localhost:8080/"
        },
        "id": "eF_4zFpvLQzg",
        "outputId": "6f462800-51fb-41e5-fb1c-b913d0d1ebd1"
      },
      "execution_count": 4,
      "outputs": [
        {
          "output_type": "execute_result",
          "data": {
            "text/plain": [
              "(3,)"
            ]
          },
          "metadata": {},
          "execution_count": 4
        }
      ]
    },
    {
      "cell_type": "code",
      "source": [
        "x.dtype # zwróci typ danych w tablicy"
      ],
      "metadata": {
        "colab": {
          "base_uri": "https://localhost:8080/"
        },
        "id": "NDFRwOVmLUes",
        "outputId": "5a95419f-beb3-4371-86d4-539c7cb2ce69"
      },
      "execution_count": 5,
      "outputs": [
        {
          "output_type": "execute_result",
          "data": {
            "text/plain": [
              "dtype('int64')"
            ]
          },
          "metadata": {},
          "execution_count": 5
        }
      ]
    },
    {
      "cell_type": "code",
      "source": [
        "x.ndim # zwraca ilość wymiarów naszej tablicy\n"
      ],
      "metadata": {
        "colab": {
          "base_uri": "https://localhost:8080/"
        },
        "id": "odhMzvO3NwPF",
        "outputId": "06d412a4-79bb-4abb-f6c4-6777de1df3d3"
      },
      "execution_count": 6,
      "outputs": [
        {
          "output_type": "execute_result",
          "data": {
            "text/plain": [
              "1"
            ]
          },
          "metadata": {},
          "execution_count": 6
        }
      ]
    },
    {
      "cell_type": "markdown",
      "source": [
        "###2D Array"
      ],
      "metadata": {
        "id": "SXROCExdKsDv"
      }
    },
    {
      "cell_type": "code",
      "source": [
        "y = np.array([\n",
        "    [2, 4, 6],\n",
        "    [6, 7, 8]\n",
        "])\n",
        "print(y)"
      ],
      "metadata": {
        "colab": {
          "base_uri": "https://localhost:8080/"
        },
        "id": "5UQAY0pNPfYu",
        "outputId": "d375949a-03a8-4144-8835-bd198c3566e8"
      },
      "execution_count": 7,
      "outputs": [
        {
          "output_type": "stream",
          "name": "stdout",
          "text": [
            "[[2 4 6]\n",
            " [6 7 8]]\n"
          ]
        }
      ]
    },
    {
      "cell_type": "code",
      "source": [
        "y.ndim"
      ],
      "metadata": {
        "colab": {
          "base_uri": "https://localhost:8080/"
        },
        "id": "FAhi8AJPP0XY",
        "outputId": "ef1ddfbd-ace0-4703-9dcb-aee4137a8ea2"
      },
      "execution_count": 8,
      "outputs": [
        {
          "output_type": "execute_result",
          "data": {
            "text/plain": [
              "2"
            ]
          },
          "metadata": {},
          "execution_count": 8
        }
      ]
    },
    {
      "cell_type": "code",
      "source": [
        "y.shape\n"
      ],
      "metadata": {
        "colab": {
          "base_uri": "https://localhost:8080/"
        },
        "id": "J7n6K84mQWIf",
        "outputId": "acfccc62-b2d9-4e65-9587-5f48a49c55e4"
      },
      "execution_count": 9,
      "outputs": [
        {
          "output_type": "execute_result",
          "data": {
            "text/plain": [
              "(2, 3)"
            ]
          },
          "metadata": {},
          "execution_count": 9
        }
      ]
    },
    {
      "cell_type": "code",
      "source": [
        "y2 = np.array([\n",
        "    [2,3,4,5,6],\n",
        "    [3,4,5,3,43],\n",
        "    [4,5,6,65,44],\n",
        "    [54,55,67,89,98]\n",
        "])\n",
        "y2.shape"
      ],
      "metadata": {
        "colab": {
          "base_uri": "https://localhost:8080/"
        },
        "id": "j0ceg8ucQaOR",
        "outputId": "db32fb81-7aa0-4b1f-eaed-cb1136f0c334"
      },
      "execution_count": 10,
      "outputs": [
        {
          "output_type": "execute_result",
          "data": {
            "text/plain": [
              "(4, 5)"
            ]
          },
          "metadata": {},
          "execution_count": 10
        }
      ]
    },
    {
      "cell_type": "markdown",
      "source": [
        "###3D Array"
      ],
      "metadata": {
        "id": "Ped3Pii4Ky0C"
      }
    },
    {
      "cell_type": "code",
      "source": [
        "x3 = np.array(  # Tablica 3D - tutaj 2 tablice, 3 wiersze, 4 kolumny\n",
        "    [\n",
        "        [[4,3,2, 5], \n",
        "         [33, 8, 2, 5],\n",
        "         [32,55,12, 5]],\n",
        "        \n",
        "        [[32,33,76,3], \n",
        "         [43,4,67, 3],\n",
        "         [32,54,23, 3]]\n",
        "    ]\n",
        ")\n",
        "x3.ndim"
      ],
      "metadata": {
        "colab": {
          "base_uri": "https://localhost:8080/"
        },
        "id": "2YvLdVhTQADC",
        "outputId": "1b441a53-1e11-4494-bbed-7adf4b4f1874"
      },
      "execution_count": 11,
      "outputs": [
        {
          "output_type": "execute_result",
          "data": {
            "text/plain": [
              "3"
            ]
          },
          "metadata": {},
          "execution_count": 11
        }
      ]
    },
    {
      "cell_type": "code",
      "source": [
        "x3.shape"
      ],
      "metadata": {
        "colab": {
          "base_uri": "https://localhost:8080/"
        },
        "id": "Bek3-lvgQfG5",
        "outputId": "29ebc305-b55a-4ca4-97b1-2493958cb4ca"
      },
      "execution_count": 12,
      "outputs": [
        {
          "output_type": "execute_result",
          "data": {
            "text/plain": [
              "(2, 3, 4)"
            ]
          },
          "metadata": {},
          "execution_count": 12
        }
      ]
    },
    {
      "cell_type": "markdown",
      "source": [
        "###Typy Danych"
      ],
      "metadata": {
        "id": "uHo1rtPNK1gL"
      }
    },
    {
      "cell_type": "code",
      "source": [
        "A = np.array([1.2,3.3], dtype='int')\n",
        "A.dtype"
      ],
      "metadata": {
        "colab": {
          "base_uri": "https://localhost:8080/"
        },
        "id": "zKzUW-6gYbhB",
        "outputId": "bf4eab84-f30d-4c57-fc7e-9f7ecccae2f0"
      },
      "execution_count": 13,
      "outputs": [
        {
          "output_type": "execute_result",
          "data": {
            "text/plain": [
              "dtype('int64')"
            ]
          },
          "metadata": {},
          "execution_count": 13
        }
      ]
    },
    {
      "cell_type": "code",
      "source": [
        "print(A)"
      ],
      "metadata": {
        "colab": {
          "base_uri": "https://localhost:8080/"
        },
        "id": "LoOkUk6nY0aE",
        "outputId": "1ef0a695-f08a-4d06-bf21-5f6d08f5257b"
      },
      "execution_count": 14,
      "outputs": [
        {
          "output_type": "stream",
          "name": "stdout",
          "text": [
            "[1 3]\n"
          ]
        }
      ]
    },
    {
      "cell_type": "code",
      "source": [
        "A=np.array([1,3,5], dtype='float')\n",
        "A"
      ],
      "metadata": {
        "colab": {
          "base_uri": "https://localhost:8080/"
        },
        "id": "5b3izJvSZSh8",
        "outputId": "c1b2d65c-010a-4d70-a60d-1293cf50a4d2"
      },
      "execution_count": 15,
      "outputs": [
        {
          "output_type": "execute_result",
          "data": {
            "text/plain": [
              "array([1., 3., 5.])"
            ]
          },
          "metadata": {},
          "execution_count": 15
        }
      ]
    },
    {
      "cell_type": "code",
      "source": [
        "A.dtype"
      ],
      "metadata": {
        "colab": {
          "base_uri": "https://localhost:8080/"
        },
        "id": "bxmzu8QKZbpB",
        "outputId": "b559ec16-90a1-420c-9859-523b1a3224b0"
      },
      "execution_count": 16,
      "outputs": [
        {
          "output_type": "execute_result",
          "data": {
            "text/plain": [
              "dtype('float64')"
            ]
          },
          "metadata": {},
          "execution_count": 16
        }
      ]
    },
    {
      "cell_type": "code",
      "source": [
        "print(A)"
      ],
      "metadata": {
        "colab": {
          "base_uri": "https://localhost:8080/"
        },
        "id": "UCdVT6sYZghN",
        "outputId": "537a77ec-de1e-4b13-8c50-8782f3e8c563"
      },
      "execution_count": 17,
      "outputs": [
        {
          "output_type": "stream",
          "name": "stdout",
          "text": [
            "[1. 3. 5.]\n"
          ]
        }
      ]
    },
    {
      "cell_type": "code",
      "source": [
        "A=np.array([True, False])\n",
        "A.dtype"
      ],
      "metadata": {
        "colab": {
          "base_uri": "https://localhost:8080/"
        },
        "id": "ykmRWszdaC_u",
        "outputId": "4f3d7f93-3044-4076-a876-4431a811897b"
      },
      "execution_count": 18,
      "outputs": [
        {
          "output_type": "execute_result",
          "data": {
            "text/plain": [
              "dtype('bool')"
            ]
          },
          "metadata": {},
          "execution_count": 18
        }
      ]
    },
    {
      "cell_type": "markdown",
      "source": [
        "###Tworzenie Tablic"
      ],
      "metadata": {
        "id": "1zHVucecK5L4"
      }
    },
    {
      "cell_type": "code",
      "source": [
        "# Tworzymy tablicę dowolnego rozmiaru wypełnioną zerami\n",
        "A = np.zeros(shape=(3,3,5))\n",
        "print(A)"
      ],
      "metadata": {
        "colab": {
          "base_uri": "https://localhost:8080/"
        },
        "id": "ACMLs60qtevt",
        "outputId": "e985ceab-0d70-4741-a19a-e586abb6b021"
      },
      "execution_count": 19,
      "outputs": [
        {
          "output_type": "stream",
          "name": "stdout",
          "text": [
            "[[[0. 0. 0. 0. 0.]\n",
            "  [0. 0. 0. 0. 0.]\n",
            "  [0. 0. 0. 0. 0.]]\n",
            "\n",
            " [[0. 0. 0. 0. 0.]\n",
            "  [0. 0. 0. 0. 0.]\n",
            "  [0. 0. 0. 0. 0.]]\n",
            "\n",
            " [[0. 0. 0. 0. 0.]\n",
            "  [0. 0. 0. 0. 0.]\n",
            "  [0. 0. 0. 0. 0.]]]\n"
          ]
        }
      ]
    },
    {
      "cell_type": "code",
      "source": [
        "# Tworzymy tablicę dowolnego rozmiaru wypełnioną jedynkami\n",
        "A = np.ones(shape=(5,5), dtype=int)\n",
        "B = np.ones(shape=(4,4,4))\n",
        "A, B"
      ],
      "metadata": {
        "colab": {
          "base_uri": "https://localhost:8080/"
        },
        "id": "xxxZ3bdXR3XM",
        "outputId": "1413db28-5384-4c3f-fc9c-195c1d4f9653"
      },
      "execution_count": 20,
      "outputs": [
        {
          "output_type": "execute_result",
          "data": {
            "text/plain": [
              "(array([[1, 1, 1, 1, 1],\n",
              "        [1, 1, 1, 1, 1],\n",
              "        [1, 1, 1, 1, 1],\n",
              "        [1, 1, 1, 1, 1],\n",
              "        [1, 1, 1, 1, 1]]),\n",
              " array([[[1., 1., 1., 1.],\n",
              "         [1., 1., 1., 1.],\n",
              "         [1., 1., 1., 1.],\n",
              "         [1., 1., 1., 1.]],\n",
              " \n",
              "        [[1., 1., 1., 1.],\n",
              "         [1., 1., 1., 1.],\n",
              "         [1., 1., 1., 1.],\n",
              "         [1., 1., 1., 1.]],\n",
              " \n",
              "        [[1., 1., 1., 1.],\n",
              "         [1., 1., 1., 1.],\n",
              "         [1., 1., 1., 1.],\n",
              "         [1., 1., 1., 1.]],\n",
              " \n",
              "        [[1., 1., 1., 1.],\n",
              "         [1., 1., 1., 1.],\n",
              "         [1., 1., 1., 1.],\n",
              "         [1., 1., 1., 1.]]]))"
            ]
          },
          "metadata": {},
          "execution_count": 20
        }
      ]
    },
    {
      "cell_type": "code",
      "source": [
        "A = np.ones(shape=(5,5), dtype='int')\n",
        "A"
      ],
      "metadata": {
        "colab": {
          "base_uri": "https://localhost:8080/"
        },
        "id": "nUpEBnxNSSp1",
        "outputId": "0eb4c08a-9073-4bdd-a721-46856e647a60"
      },
      "execution_count": 21,
      "outputs": [
        {
          "output_type": "execute_result",
          "data": {
            "text/plain": [
              "array([[1, 1, 1, 1, 1],\n",
              "       [1, 1, 1, 1, 1],\n",
              "       [1, 1, 1, 1, 1],\n",
              "       [1, 1, 1, 1, 1],\n",
              "       [1, 1, 1, 1, 1]])"
            ]
          },
          "metadata": {},
          "execution_count": 21
        }
      ]
    },
    {
      "cell_type": "code",
      "source": [
        "# Tworzymy tablicę o dowolnym rozmiarze i wypełnioną dowolną wartością\n",
        "A = np.full(shape=(3,3), fill_value=5, dtype='int')\n",
        "A"
      ],
      "metadata": {
        "colab": {
          "base_uri": "https://localhost:8080/"
        },
        "id": "NjIrnbZATOk5",
        "outputId": "bd55e852-4256-4539-947c-01f34b4bca32"
      },
      "execution_count": 22,
      "outputs": [
        {
          "output_type": "execute_result",
          "data": {
            "text/plain": [
              "array([[5, 5, 5],\n",
              "       [5, 5, 5],\n",
              "       [5, 5, 5]])"
            ]
          },
          "metadata": {},
          "execution_count": 22
        }
      ]
    },
    {
      "cell_type": "code",
      "source": [
        "A = np.arange(10)\n",
        "A"
      ],
      "metadata": {
        "colab": {
          "base_uri": "https://localhost:8080/"
        },
        "id": "_coRNmPvTydg",
        "outputId": "5b48bd17-a102-4534-addc-b99f6db0a07a"
      },
      "execution_count": 23,
      "outputs": [
        {
          "output_type": "execute_result",
          "data": {
            "text/plain": [
              "array([0, 1, 2, 3, 4, 5, 6, 7, 8, 9])"
            ]
          },
          "metadata": {},
          "execution_count": 23
        }
      ]
    },
    {
      "cell_type": "code",
      "source": [
        "A = np.arange(start=5, stop=10)\n",
        "A"
      ],
      "metadata": {
        "colab": {
          "base_uri": "https://localhost:8080/"
        },
        "id": "ZL4LtqHPYU5H",
        "outputId": "b9c513f8-fb3a-403d-8def-8493da902d2e"
      },
      "execution_count": 24,
      "outputs": [
        {
          "output_type": "execute_result",
          "data": {
            "text/plain": [
              "array([5, 6, 7, 8, 9])"
            ]
          },
          "metadata": {},
          "execution_count": 24
        }
      ]
    },
    {
      "cell_type": "code",
      "source": [
        "A = np.arange(start=5, stop=100, step=5)\n",
        "A"
      ],
      "metadata": {
        "colab": {
          "base_uri": "https://localhost:8080/"
        },
        "id": "A2Gi9OIUY8-o",
        "outputId": "ced6331c-1d87-49ad-d286-67bbaf803f21"
      },
      "execution_count": 25,
      "outputs": [
        {
          "output_type": "execute_result",
          "data": {
            "text/plain": [
              "array([ 5, 10, 15, 20, 25, 30, 35, 40, 45, 50, 55, 60, 65, 70, 75, 80, 85,\n",
              "       90, 95])"
            ]
          },
          "metadata": {},
          "execution_count": 25
        }
      ]
    },
    {
      "cell_type": "code",
      "source": [
        "A = np.arange(start=500, stop=100, step=-50)\n",
        "A"
      ],
      "metadata": {
        "colab": {
          "base_uri": "https://localhost:8080/"
        },
        "id": "Q4Xhy5LkZOMF",
        "outputId": "cb12adf7-c4f4-4e71-cb44-34e40be74e16"
      },
      "execution_count": 26,
      "outputs": [
        {
          "output_type": "execute_result",
          "data": {
            "text/plain": [
              "array([500, 450, 400, 350, 300, 250, 200, 150])"
            ]
          },
          "metadata": {},
          "execution_count": 26
        }
      ]
    },
    {
      "cell_type": "code",
      "source": [
        "A = np.arange(start=0, stop=1, step=0.05)\n",
        "A"
      ],
      "metadata": {
        "colab": {
          "base_uri": "https://localhost:8080/"
        },
        "id": "8r565lRqaHM9",
        "outputId": "afa77523-fef1-48d2-b224-63c5654aa884"
      },
      "execution_count": 27,
      "outputs": [
        {
          "output_type": "execute_result",
          "data": {
            "text/plain": [
              "array([0.  , 0.05, 0.1 , 0.15, 0.2 , 0.25, 0.3 , 0.35, 0.4 , 0.45, 0.5 ,\n",
              "       0.55, 0.6 , 0.65, 0.7 , 0.75, 0.8 , 0.85, 0.9 , 0.95])"
            ]
          },
          "metadata": {},
          "execution_count": 27
        }
      ]
    },
    {
      "cell_type": "code",
      "source": [
        "# Tworzymy tablicę, gdzie podajemy start i stop oraz ilość elementów pomiędzy, które będą równo rozłożone\n",
        "A = np.linspace(start=0, stop=1, num=12)\n",
        "A "
      ],
      "metadata": {
        "colab": {
          "base_uri": "https://localhost:8080/"
        },
        "id": "L3L6vt7EbAiQ",
        "outputId": "6cc94c1c-4af2-433e-c2dd-7f8fe64f07b6"
      },
      "execution_count": 28,
      "outputs": [
        {
          "output_type": "execute_result",
          "data": {
            "text/plain": [
              "array([0.        , 0.09090909, 0.18181818, 0.27272727, 0.36363636,\n",
              "       0.45454545, 0.54545455, 0.63636364, 0.72727273, 0.81818182,\n",
              "       0.90909091, 1.        ])"
            ]
          },
          "metadata": {},
          "execution_count": 28
        }
      ]
    },
    {
      "cell_type": "code",
      "source": [
        "# Zmieniamy kształt tablicy\n",
        "A = np.arange(10)"
      ],
      "metadata": {
        "id": "QYk_wkXhcfRw"
      },
      "execution_count": 29,
      "outputs": []
    },
    {
      "cell_type": "code",
      "source": [
        "B= A.reshape((-1,5))\n",
        "B"
      ],
      "metadata": {
        "colab": {
          "base_uri": "https://localhost:8080/"
        },
        "id": "QfdBje2Sc25R",
        "outputId": "7e563c35-8dbd-40d7-e425-d3f268900a0a"
      },
      "execution_count": 30,
      "outputs": [
        {
          "output_type": "execute_result",
          "data": {
            "text/plain": [
              "array([[0, 1, 2, 3, 4],\n",
              "       [5, 6, 7, 8, 9]])"
            ]
          },
          "metadata": {},
          "execution_count": 30
        }
      ]
    },
    {
      "cell_type": "code",
      "source": [
        "A = np.arange(300)"
      ],
      "metadata": {
        "id": "EDNJ2Ws6esai"
      },
      "execution_count": 31,
      "outputs": []
    },
    {
      "cell_type": "code",
      "source": [
        "A.reshape((-1,12))"
      ],
      "metadata": {
        "colab": {
          "base_uri": "https://localhost:8080/"
        },
        "id": "bxpdcvWQe3Ap",
        "outputId": "d37dcdd7-2aa5-4040-fc4a-24ac896c9f59"
      },
      "execution_count": 32,
      "outputs": [
        {
          "output_type": "execute_result",
          "data": {
            "text/plain": [
              "array([[  0,   1,   2,   3,   4,   5,   6,   7,   8,   9,  10,  11],\n",
              "       [ 12,  13,  14,  15,  16,  17,  18,  19,  20,  21,  22,  23],\n",
              "       [ 24,  25,  26,  27,  28,  29,  30,  31,  32,  33,  34,  35],\n",
              "       [ 36,  37,  38,  39,  40,  41,  42,  43,  44,  45,  46,  47],\n",
              "       [ 48,  49,  50,  51,  52,  53,  54,  55,  56,  57,  58,  59],\n",
              "       [ 60,  61,  62,  63,  64,  65,  66,  67,  68,  69,  70,  71],\n",
              "       [ 72,  73,  74,  75,  76,  77,  78,  79,  80,  81,  82,  83],\n",
              "       [ 84,  85,  86,  87,  88,  89,  90,  91,  92,  93,  94,  95],\n",
              "       [ 96,  97,  98,  99, 100, 101, 102, 103, 104, 105, 106, 107],\n",
              "       [108, 109, 110, 111, 112, 113, 114, 115, 116, 117, 118, 119],\n",
              "       [120, 121, 122, 123, 124, 125, 126, 127, 128, 129, 130, 131],\n",
              "       [132, 133, 134, 135, 136, 137, 138, 139, 140, 141, 142, 143],\n",
              "       [144, 145, 146, 147, 148, 149, 150, 151, 152, 153, 154, 155],\n",
              "       [156, 157, 158, 159, 160, 161, 162, 163, 164, 165, 166, 167],\n",
              "       [168, 169, 170, 171, 172, 173, 174, 175, 176, 177, 178, 179],\n",
              "       [180, 181, 182, 183, 184, 185, 186, 187, 188, 189, 190, 191],\n",
              "       [192, 193, 194, 195, 196, 197, 198, 199, 200, 201, 202, 203],\n",
              "       [204, 205, 206, 207, 208, 209, 210, 211, 212, 213, 214, 215],\n",
              "       [216, 217, 218, 219, 220, 221, 222, 223, 224, 225, 226, 227],\n",
              "       [228, 229, 230, 231, 232, 233, 234, 235, 236, 237, 238, 239],\n",
              "       [240, 241, 242, 243, 244, 245, 246, 247, 248, 249, 250, 251],\n",
              "       [252, 253, 254, 255, 256, 257, 258, 259, 260, 261, 262, 263],\n",
              "       [264, 265, 266, 267, 268, 269, 270, 271, 272, 273, 274, 275],\n",
              "       [276, 277, 278, 279, 280, 281, 282, 283, 284, 285, 286, 287],\n",
              "       [288, 289, 290, 291, 292, 293, 294, 295, 296, 297, 298, 299]])"
            ]
          },
          "metadata": {},
          "execution_count": 32
        }
      ]
    },
    {
      "cell_type": "code",
      "source": [
        "A.reshape((15, -1))"
      ],
      "metadata": {
        "colab": {
          "base_uri": "https://localhost:8080/"
        },
        "id": "vQc7AMQlWfaE",
        "outputId": "99cc5e99-e7ae-4887-fb49-a202499edd75"
      },
      "execution_count": 33,
      "outputs": [
        {
          "output_type": "execute_result",
          "data": {
            "text/plain": [
              "array([[  0,   1,   2,   3,   4,   5,   6,   7,   8,   9,  10,  11,  12,\n",
              "         13,  14,  15,  16,  17,  18,  19],\n",
              "       [ 20,  21,  22,  23,  24,  25,  26,  27,  28,  29,  30,  31,  32,\n",
              "         33,  34,  35,  36,  37,  38,  39],\n",
              "       [ 40,  41,  42,  43,  44,  45,  46,  47,  48,  49,  50,  51,  52,\n",
              "         53,  54,  55,  56,  57,  58,  59],\n",
              "       [ 60,  61,  62,  63,  64,  65,  66,  67,  68,  69,  70,  71,  72,\n",
              "         73,  74,  75,  76,  77,  78,  79],\n",
              "       [ 80,  81,  82,  83,  84,  85,  86,  87,  88,  89,  90,  91,  92,\n",
              "         93,  94,  95,  96,  97,  98,  99],\n",
              "       [100, 101, 102, 103, 104, 105, 106, 107, 108, 109, 110, 111, 112,\n",
              "        113, 114, 115, 116, 117, 118, 119],\n",
              "       [120, 121, 122, 123, 124, 125, 126, 127, 128, 129, 130, 131, 132,\n",
              "        133, 134, 135, 136, 137, 138, 139],\n",
              "       [140, 141, 142, 143, 144, 145, 146, 147, 148, 149, 150, 151, 152,\n",
              "        153, 154, 155, 156, 157, 158, 159],\n",
              "       [160, 161, 162, 163, 164, 165, 166, 167, 168, 169, 170, 171, 172,\n",
              "        173, 174, 175, 176, 177, 178, 179],\n",
              "       [180, 181, 182, 183, 184, 185, 186, 187, 188, 189, 190, 191, 192,\n",
              "        193, 194, 195, 196, 197, 198, 199],\n",
              "       [200, 201, 202, 203, 204, 205, 206, 207, 208, 209, 210, 211, 212,\n",
              "        213, 214, 215, 216, 217, 218, 219],\n",
              "       [220, 221, 222, 223, 224, 225, 226, 227, 228, 229, 230, 231, 232,\n",
              "        233, 234, 235, 236, 237, 238, 239],\n",
              "       [240, 241, 242, 243, 244, 245, 246, 247, 248, 249, 250, 251, 252,\n",
              "        253, 254, 255, 256, 257, 258, 259],\n",
              "       [260, 261, 262, 263, 264, 265, 266, 267, 268, 269, 270, 271, 272,\n",
              "        273, 274, 275, 276, 277, 278, 279],\n",
              "       [280, 281, 282, 283, 284, 285, 286, 287, 288, 289, 290, 291, 292,\n",
              "        293, 294, 295, 296, 297, 298, 299]])"
            ]
          },
          "metadata": {},
          "execution_count": 33
        }
      ]
    },
    {
      "cell_type": "code",
      "source": [
        "A.shape"
      ],
      "metadata": {
        "colab": {
          "base_uri": "https://localhost:8080/"
        },
        "id": "N1FKRIHTW93U",
        "outputId": "3249bb9d-ab4b-493f-a808-72a34707a093"
      },
      "execution_count": 34,
      "outputs": [
        {
          "output_type": "execute_result",
          "data": {
            "text/plain": [
              "(300,)"
            ]
          },
          "metadata": {},
          "execution_count": 34
        }
      ]
    },
    {
      "cell_type": "code",
      "source": [
        "A.ndim\n"
      ],
      "metadata": {
        "colab": {
          "base_uri": "https://localhost:8080/"
        },
        "id": "kHPTgHxiW7--",
        "outputId": "f7f543bd-d74c-4c28-a7e1-6ad6da146e81"
      },
      "execution_count": 35,
      "outputs": [
        {
          "output_type": "execute_result",
          "data": {
            "text/plain": [
              "1"
            ]
          },
          "metadata": {},
          "execution_count": 35
        }
      ]
    },
    {
      "cell_type": "code",
      "source": [
        "B= A.reshape((15, -1))\n",
        "B.ndim"
      ],
      "metadata": {
        "colab": {
          "base_uri": "https://localhost:8080/"
        },
        "id": "q_Xyadt7XD_H",
        "outputId": "f27c3a93-80a1-4100-abb1-ec1a238be3b3"
      },
      "execution_count": 36,
      "outputs": [
        {
          "output_type": "execute_result",
          "data": {
            "text/plain": [
              "2"
            ]
          },
          "metadata": {},
          "execution_count": 36
        }
      ]
    },
    {
      "cell_type": "code",
      "source": [
        "B.shape"
      ],
      "metadata": {
        "colab": {
          "base_uri": "https://localhost:8080/"
        },
        "id": "sUWReI81XKC2",
        "outputId": "0f3c9940-354a-4c78-b08a-7c36844eaf0e"
      },
      "execution_count": 37,
      "outputs": [
        {
          "output_type": "execute_result",
          "data": {
            "text/plain": [
              "(15, 20)"
            ]
          },
          "metadata": {},
          "execution_count": 37
        }
      ]
    },
    {
      "cell_type": "markdown",
      "source": [
        "\n",
        "###Podstawowe Operacje na tablicach"
      ],
      "metadata": {
        "id": "sesjnkB9LAaN"
      }
    },
    {
      "cell_type": "code",
      "source": [
        "A = np.array([2,4,1,3])\n",
        "B = np.array([3,1,-1,2])\n",
        "print(A)\n",
        "print(B)"
      ],
      "metadata": {
        "colab": {
          "base_uri": "https://localhost:8080/"
        },
        "id": "6ZfXX0dRcOq0",
        "outputId": "e3e460a8-a751-4656-ddf0-791cebd5965b"
      },
      "execution_count": 38,
      "outputs": [
        {
          "output_type": "stream",
          "name": "stdout",
          "text": [
            "[2 4 1 3]\n",
            "[ 3  1 -1  2]\n"
          ]
        }
      ]
    },
    {
      "cell_type": "code",
      "source": [
        "A+B"
      ],
      "metadata": {
        "colab": {
          "base_uri": "https://localhost:8080/"
        },
        "id": "6E2zHlImcd2W",
        "outputId": "dee451e2-8a3a-47a7-efab-fc64276f2f0c"
      },
      "execution_count": 39,
      "outputs": [
        {
          "output_type": "execute_result",
          "data": {
            "text/plain": [
              "array([5, 5, 0, 5])"
            ]
          },
          "metadata": {},
          "execution_count": 39
        }
      ]
    },
    {
      "cell_type": "code",
      "source": [
        "A-B"
      ],
      "metadata": {
        "colab": {
          "base_uri": "https://localhost:8080/"
        },
        "id": "-SMjo9THdDV-",
        "outputId": "b89a7aec-81d8-40d5-f04e-670bb2e81183"
      },
      "execution_count": 40,
      "outputs": [
        {
          "output_type": "execute_result",
          "data": {
            "text/plain": [
              "array([-1,  3,  2,  1])"
            ]
          },
          "metadata": {},
          "execution_count": 40
        }
      ]
    },
    {
      "cell_type": "code",
      "source": [
        "A*B"
      ],
      "metadata": {
        "colab": {
          "base_uri": "https://localhost:8080/"
        },
        "id": "jNFzanVzdmiG",
        "outputId": "af6ac3cd-24e9-4f29-9eb2-2b0fc98840f2"
      },
      "execution_count": 41,
      "outputs": [
        {
          "output_type": "execute_result",
          "data": {
            "text/plain": [
              "array([ 6,  4, -1,  6])"
            ]
          },
          "metadata": {},
          "execution_count": 41
        }
      ]
    },
    {
      "cell_type": "code",
      "source": [
        "A/B"
      ],
      "metadata": {
        "colab": {
          "base_uri": "https://localhost:8080/"
        },
        "id": "n2i7ZSXld1rG",
        "outputId": "fb408573-196b-448e-a22c-0700f363af88"
      },
      "execution_count": 42,
      "outputs": [
        {
          "output_type": "execute_result",
          "data": {
            "text/plain": [
              "array([ 0.66666667,  4.        , -1.        ,  1.5       ])"
            ]
          },
          "metadata": {},
          "execution_count": 42
        }
      ]
    },
    {
      "cell_type": "code",
      "source": [
        "A+3"
      ],
      "metadata": {
        "colab": {
          "base_uri": "https://localhost:8080/"
        },
        "id": "Ek7D996TggeY",
        "outputId": "1e60b9eb-ba4a-4e3e-be53-c9788cd9b72b"
      },
      "execution_count": 43,
      "outputs": [
        {
          "output_type": "execute_result",
          "data": {
            "text/plain": [
              "array([5, 7, 4, 6])"
            ]
          },
          "metadata": {},
          "execution_count": 43
        }
      ]
    },
    {
      "cell_type": "code",
      "source": [
        "A*3"
      ],
      "metadata": {
        "colab": {
          "base_uri": "https://localhost:8080/"
        },
        "id": "V2JmCxn7g1yP",
        "outputId": "ef3501ac-7a48-488a-ce52-3a59b611a86a"
      },
      "execution_count": 44,
      "outputs": [
        {
          "output_type": "execute_result",
          "data": {
            "text/plain": [
              "array([ 6, 12,  3,  9])"
            ]
          },
          "metadata": {},
          "execution_count": 44
        }
      ]
    },
    {
      "cell_type": "code",
      "source": [
        "3*A"
      ],
      "metadata": {
        "colab": {
          "base_uri": "https://localhost:8080/"
        },
        "id": "KLpzHFCkg3z8",
        "outputId": "04b9adcc-0f5e-4aa9-830b-66c2c0d53d9b"
      },
      "execution_count": 45,
      "outputs": [
        {
          "output_type": "execute_result",
          "data": {
            "text/plain": [
              "array([ 6, 12,  3,  9])"
            ]
          },
          "metadata": {},
          "execution_count": 45
        }
      ]
    },
    {
      "cell_type": "code",
      "source": [
        "15-A"
      ],
      "metadata": {
        "colab": {
          "base_uri": "https://localhost:8080/"
        },
        "id": "7C52FBBig8on",
        "outputId": "1142d493-f293-46b6-f9fb-5e984bdc7df2"
      },
      "execution_count": 46,
      "outputs": [
        {
          "output_type": "execute_result",
          "data": {
            "text/plain": [
              "array([13, 11, 14, 12])"
            ]
          },
          "metadata": {},
          "execution_count": 46
        }
      ]
    },
    {
      "cell_type": "code",
      "source": [
        "A+B"
      ],
      "metadata": {
        "colab": {
          "base_uri": "https://localhost:8080/"
        },
        "id": "E3I_fV77hh1J",
        "outputId": "2426d586-1653-4907-db26-8e16f25fc639"
      },
      "execution_count": 47,
      "outputs": [
        {
          "output_type": "execute_result",
          "data": {
            "text/plain": [
              "array([5, 5, 0, 5])"
            ]
          },
          "metadata": {},
          "execution_count": 47
        }
      ]
    },
    {
      "cell_type": "code",
      "source": [
        "np.add(A,B)"
      ],
      "metadata": {
        "colab": {
          "base_uri": "https://localhost:8080/"
        },
        "id": "D54AXXBEhkhu",
        "outputId": "091887db-7cb5-4659-c98f-6461c64b49c3"
      },
      "execution_count": 48,
      "outputs": [
        {
          "output_type": "execute_result",
          "data": {
            "text/plain": [
              "array([5, 5, 0, 5])"
            ]
          },
          "metadata": {},
          "execution_count": 48
        }
      ]
    },
    {
      "cell_type": "code",
      "source": [
        "#Mnożenie Macieży\n",
        "X= np.array([[1,3], [-2,0]])\n",
        "Y = np.array([[6,0],[-1,2]])\n",
        "print(X, '\\n')\n",
        "print(Y)"
      ],
      "metadata": {
        "colab": {
          "base_uri": "https://localhost:8080/"
        },
        "id": "EE8SlU_DiZEd",
        "outputId": "159a841e-0176-4e3e-ca3e-576bc5e58274"
      },
      "execution_count": 49,
      "outputs": [
        {
          "output_type": "stream",
          "name": "stdout",
          "text": [
            "[[ 1  3]\n",
            " [-2  0]] \n",
            "\n",
            "[[ 6  0]\n",
            " [-1  2]]\n"
          ]
        }
      ]
    },
    {
      "cell_type": "code",
      "source": [
        "X*Y"
      ],
      "metadata": {
        "colab": {
          "base_uri": "https://localhost:8080/"
        },
        "id": "BC48UkcbjqOF",
        "outputId": "5af6c679-489e-4a55-bb0d-7531abb65aa8"
      },
      "execution_count": 50,
      "outputs": [
        {
          "output_type": "execute_result",
          "data": {
            "text/plain": [
              "array([[6, 0],\n",
              "       [2, 0]])"
            ]
          },
          "metadata": {},
          "execution_count": 50
        }
      ]
    },
    {
      "cell_type": "code",
      "source": [
        "np.dot(X,Y)"
      ],
      "metadata": {
        "colab": {
          "base_uri": "https://localhost:8080/"
        },
        "id": "eDe1ad1nkMek",
        "outputId": "cd65f87c-5423-4053-fcbc-3907ba49a265"
      },
      "execution_count": 51,
      "outputs": [
        {
          "output_type": "execute_result",
          "data": {
            "text/plain": [
              "array([[  3,   6],\n",
              "       [-12,   0]])"
            ]
          },
          "metadata": {},
          "execution_count": 51
        }
      ]
    },
    {
      "cell_type": "code",
      "source": [
        "X.dot(Y)"
      ],
      "metadata": {
        "colab": {
          "base_uri": "https://localhost:8080/"
        },
        "id": "OMeez2wvFXmb",
        "outputId": "a50d85d4-6712-4a6f-e611-e1e9d1957ba1"
      },
      "execution_count": 52,
      "outputs": [
        {
          "output_type": "execute_result",
          "data": {
            "text/plain": [
              "array([[  3,   6],\n",
              "       [-12,   0]])"
            ]
          },
          "metadata": {},
          "execution_count": 52
        }
      ]
    },
    {
      "cell_type": "code",
      "source": [
        "Y.dot(X)"
      ],
      "metadata": {
        "colab": {
          "base_uri": "https://localhost:8080/"
        },
        "id": "xDq5nxW5FhW6",
        "outputId": "e290eb1d-d52e-4386-8f04-365e3929c613"
      },
      "execution_count": 53,
      "outputs": [
        {
          "output_type": "execute_result",
          "data": {
            "text/plain": [
              "array([[ 6, 18],\n",
              "       [-5, -3]])"
            ]
          },
          "metadata": {},
          "execution_count": 53
        }
      ]
    },
    {
      "cell_type": "code",
      "source": [
        "X @ Y"
      ],
      "metadata": {
        "colab": {
          "base_uri": "https://localhost:8080/"
        },
        "id": "sTNPdifnGTVy",
        "outputId": "e86ddaac-b078-47b3-ce5a-90d78c79b0d5"
      },
      "execution_count": 54,
      "outputs": [
        {
          "output_type": "execute_result",
          "data": {
            "text/plain": [
              "array([[  3,   6],\n",
              "       [-12,   0]])"
            ]
          },
          "metadata": {},
          "execution_count": 54
        }
      ]
    },
    {
      "cell_type": "markdown",
      "source": [
        "###Generowanie Liczb Pseudolosowych "
      ],
      "metadata": {
        "id": "8dN8DzcGK-Ad"
      }
    },
    {
      "cell_type": "code",
      "source": [
        "np.random.seed(0)"
      ],
      "metadata": {
        "id": "TAgByZizHl7I"
      },
      "execution_count": 55,
      "outputs": []
    },
    {
      "cell_type": "code",
      "source": [
        "np.random.randn()"
      ],
      "metadata": {
        "colab": {
          "base_uri": "https://localhost:8080/"
        },
        "id": "fTft8uxOHp5u",
        "outputId": "43d13cc9-c9e1-49a6-d571-e8e5baaf500a"
      },
      "execution_count": 56,
      "outputs": [
        {
          "output_type": "execute_result",
          "data": {
            "text/plain": [
              "1.764052345967664"
            ]
          },
          "metadata": {},
          "execution_count": 56
        }
      ]
    },
    {
      "cell_type": "code",
      "source": [
        "np.random.seed(0)"
      ],
      "metadata": {
        "id": "YFCWdho9H-nn"
      },
      "execution_count": 57,
      "outputs": []
    },
    {
      "cell_type": "code",
      "source": [
        "np.random.randn()"
      ],
      "metadata": {
        "colab": {
          "base_uri": "https://localhost:8080/"
        },
        "id": "uOurd1mWH4d-",
        "outputId": "80babd42-9374-48c3-a187-f72546cfe80f"
      },
      "execution_count": 58,
      "outputs": [
        {
          "output_type": "execute_result",
          "data": {
            "text/plain": [
              "1.764052345967664"
            ]
          },
          "metadata": {},
          "execution_count": 58
        }
      ]
    },
    {
      "cell_type": "code",
      "source": [
        "np.random.randn()"
      ],
      "metadata": {
        "colab": {
          "base_uri": "https://localhost:8080/"
        },
        "id": "ORmp69AFH7tz",
        "outputId": "c943388b-f951-44a6-fa5a-d4d148d3a537"
      },
      "execution_count": 59,
      "outputs": [
        {
          "output_type": "execute_result",
          "data": {
            "text/plain": [
              "0.4001572083672233"
            ]
          },
          "metadata": {},
          "execution_count": 59
        }
      ]
    },
    {
      "cell_type": "code",
      "source": [
        "np.random.randn(10) "
      ],
      "metadata": {
        "colab": {
          "base_uri": "https://localhost:8080/"
        },
        "id": "CucdkrsjI8VH",
        "outputId": "c72832c4-9331-480a-b6dd-f704086bd7b0"
      },
      "execution_count": 60,
      "outputs": [
        {
          "output_type": "execute_result",
          "data": {
            "text/plain": [
              "array([ 0.97873798,  2.2408932 ,  1.86755799, -0.97727788,  0.95008842,\n",
              "       -0.15135721, -0.10321885,  0.4105985 ,  0.14404357,  1.45427351])"
            ]
          },
          "metadata": {},
          "execution_count": 60
        }
      ]
    },
    {
      "cell_type": "code",
      "source": [
        "np.random.randn(10, 4) # 10 oznacza liczbę wierszy (utożsamiamy z liczbą próbek) 4 oznacza liczbę kolumn (utożsamiany z liczbą zmiennych)"
      ],
      "metadata": {
        "colab": {
          "base_uri": "https://localhost:8080/"
        },
        "id": "m58VVBEtKn-s",
        "outputId": "50ce0a62-f637-438a-9421-30369c57dcb5"
      },
      "execution_count": 61,
      "outputs": [
        {
          "output_type": "execute_result",
          "data": {
            "text/plain": [
              "array([[ 0.76103773,  0.12167502,  0.44386323,  0.33367433],\n",
              "       [ 1.49407907, -0.20515826,  0.3130677 , -0.85409574],\n",
              "       [-2.55298982,  0.6536186 ,  0.8644362 , -0.74216502],\n",
              "       [ 2.26975462, -1.45436567,  0.04575852, -0.18718385],\n",
              "       [ 1.53277921,  1.46935877,  0.15494743,  0.37816252],\n",
              "       [-0.88778575, -1.98079647, -0.34791215,  0.15634897],\n",
              "       [ 1.23029068,  1.20237985, -0.38732682, -0.30230275],\n",
              "       [-1.04855297, -1.42001794, -1.70627019,  1.9507754 ],\n",
              "       [-0.50965218, -0.4380743 , -1.25279536,  0.77749036],\n",
              "       [-1.61389785, -0.21274028, -0.89546656,  0.3869025 ]])"
            ]
          },
          "metadata": {},
          "execution_count": 61
        }
      ]
    },
    {
      "cell_type": "code",
      "source": [
        "np.random.rand()"
      ],
      "metadata": {
        "colab": {
          "base_uri": "https://localhost:8080/"
        },
        "id": "ctiG_vfJMEHp",
        "outputId": "1e56d5a3-3f9c-4c60-9553-9cf2779c8712"
      },
      "execution_count": 62,
      "outputs": [
        {
          "output_type": "execute_result",
          "data": {
            "text/plain": [
              "0.1965823616800535"
            ]
          },
          "metadata": {},
          "execution_count": 62
        }
      ]
    },
    {
      "cell_type": "code",
      "source": [
        "np.random.rand(10)"
      ],
      "metadata": {
        "colab": {
          "base_uri": "https://localhost:8080/"
        },
        "id": "XNWZrZRXNIKu",
        "outputId": "51787b2f-64ab-4db7-8616-259c100d68f3"
      },
      "execution_count": 63,
      "outputs": [
        {
          "output_type": "execute_result",
          "data": {
            "text/plain": [
              "array([0.36872517, 0.82099323, 0.09710128, 0.83794491, 0.09609841,\n",
              "       0.97645947, 0.4686512 , 0.97676109, 0.60484552, 0.73926358])"
            ]
          },
          "metadata": {},
          "execution_count": 63
        }
      ]
    },
    {
      "cell_type": "code",
      "source": [
        "np.random.rand(10,4)"
      ],
      "metadata": {
        "colab": {
          "base_uri": "https://localhost:8080/"
        },
        "id": "Bd0t3eqrNM4x",
        "outputId": "dc010387-e5be-4591-d4a0-e8374aebe3c8"
      },
      "execution_count": 64,
      "outputs": [
        {
          "output_type": "execute_result",
          "data": {
            "text/plain": [
              "array([[0.03918779, 0.28280696, 0.12019656, 0.2961402 ],\n",
              "       [0.11872772, 0.31798318, 0.41426299, 0.0641475 ],\n",
              "       [0.69247212, 0.56660145, 0.26538949, 0.52324805],\n",
              "       [0.09394051, 0.5759465 , 0.9292962 , 0.31856895],\n",
              "       [0.66741038, 0.13179786, 0.7163272 , 0.28940609],\n",
              "       [0.18319136, 0.58651293, 0.02010755, 0.82894003],\n",
              "       [0.00469548, 0.67781654, 0.27000797, 0.73519402],\n",
              "       [0.96218855, 0.24875314, 0.57615733, 0.59204193],\n",
              "       [0.57225191, 0.22308163, 0.95274901, 0.44712538],\n",
              "       [0.84640867, 0.69947928, 0.29743695, 0.81379782]])"
            ]
          },
          "metadata": {},
          "execution_count": 64
        }
      ]
    },
    {
      "cell_type": "code",
      "source": [
        "# Generujemy liczbę całkowitą 0-9\n",
        "np.random.randint(10)"
      ],
      "metadata": {
        "colab": {
          "base_uri": "https://localhost:8080/"
        },
        "id": "pBxH9lj3OH9M",
        "outputId": "bccf6d7d-e4cc-4672-b042-348bcf05cad3"
      },
      "execution_count": 65,
      "outputs": [
        {
          "output_type": "execute_result",
          "data": {
            "text/plain": [
              "8"
            ]
          },
          "metadata": {},
          "execution_count": 65
        }
      ]
    },
    {
      "cell_type": "code",
      "source": [
        "# generujemy liczbę dwucyfrową od 10 do 99\n",
        "np.random.randint(low=10, high=100)"
      ],
      "metadata": {
        "colab": {
          "base_uri": "https://localhost:8080/"
        },
        "id": "nlnQaNI8R9iS",
        "outputId": "661b46dc-7f14-4039-dc91-c7b26f943eb8"
      },
      "execution_count": 66,
      "outputs": [
        {
          "output_type": "execute_result",
          "data": {
            "text/plain": [
              "26"
            ]
          },
          "metadata": {},
          "execution_count": 66
        }
      ]
    },
    {
      "cell_type": "code",
      "source": [
        "# Generujemy Tablicę z dziesięcioma elementami z przedziału 10 do 99\n",
        "np.random.randint(low=10, high=100, size=10)"
      ],
      "metadata": {
        "colab": {
          "base_uri": "https://localhost:8080/"
        },
        "id": "pJhavZ_YSE5O",
        "outputId": "ada5f211-fad4-4bb3-f475-0dc7d9823777"
      },
      "execution_count": 67,
      "outputs": [
        {
          "output_type": "execute_result",
          "data": {
            "text/plain": [
              "array([34, 39, 31, 35, 90, 70, 71, 93, 43, 42])"
            ]
          },
          "metadata": {},
          "execution_count": 67
        }
      ]
    },
    {
      "cell_type": "code",
      "source": [
        "# wybieramy jeden element z listy\n",
        "np.random.choice([3,4,2,5,2])"
      ],
      "metadata": {
        "colab": {
          "base_uri": "https://localhost:8080/"
        },
        "id": "35T-mrK0Uk2L",
        "outputId": "fbfa12f5-bc33-442c-9f0b-51bd8ccdde57"
      },
      "execution_count": 68,
      "outputs": [
        {
          "output_type": "execute_result",
          "data": {
            "text/plain": [
              "2"
            ]
          },
          "metadata": {},
          "execution_count": 68
        }
      ]
    },
    {
      "cell_type": "code",
      "source": [
        "# wybieramy jeden element z listy\n",
        "np.random.choice(['python', 'java','javascript'])"
      ],
      "metadata": {
        "colab": {
          "base_uri": "https://localhost:8080/",
          "height": 36
        },
        "id": "kgHjjeCdU1Oa",
        "outputId": "86ed4a1a-f16f-4482-f523-4bf99d6cdedf"
      },
      "execution_count": 69,
      "outputs": [
        {
          "output_type": "execute_result",
          "data": {
            "text/plain": [
              "'java'"
            ],
            "application/vnd.google.colaboratory.intrinsic+json": {
              "type": "string"
            }
          },
          "metadata": {},
          "execution_count": 69
        }
      ]
    },
    {
      "cell_type": "code",
      "source": [
        "data = np.arange(10)\n",
        "data"
      ],
      "metadata": {
        "colab": {
          "base_uri": "https://localhost:8080/"
        },
        "id": "QkF3OrLeVixA",
        "outputId": "d4b69814-6872-401b-f599-cda4917bd156"
      },
      "execution_count": 70,
      "outputs": [
        {
          "output_type": "execute_result",
          "data": {
            "text/plain": [
              "array([0, 1, 2, 3, 4, 5, 6, 7, 8, 9])"
            ]
          },
          "metadata": {},
          "execution_count": 70
        }
      ]
    },
    {
      "cell_type": "code",
      "source": [
        "# tasujemy listę data. To działanie zmienia oryginalną listę\n",
        "np.random.shuffle(data)\n",
        "data"
      ],
      "metadata": {
        "colab": {
          "base_uri": "https://localhost:8080/"
        },
        "id": "PhyoRVjbVvWh",
        "outputId": "ac789a0e-654b-4124-c2af-7c3b7559e796"
      },
      "execution_count": 71,
      "outputs": [
        {
          "output_type": "execute_result",
          "data": {
            "text/plain": [
              "array([2, 4, 1, 3, 9, 0, 8, 7, 5, 6])"
            ]
          },
          "metadata": {},
          "execution_count": 71
        }
      ]
    },
    {
      "cell_type": "markdown",
      "source": [
        "###Podstawowe Funkcje"
      ],
      "metadata": {
        "id": "b9ZO11wNbmih"
      }
    },
    {
      "cell_type": "code",
      "source": [
        "a = np.exp(1)\n",
        "print(a)\n",
        "# exp(1) -> zwróci stałą Eulera (2.718281828459045)"
      ],
      "metadata": {
        "colab": {
          "base_uri": "https://localhost:8080/"
        },
        "id": "EwF5mVATNryt",
        "outputId": "d042abff-e3f6-421e-9c2e-003195426a25"
      },
      "execution_count": 72,
      "outputs": [
        {
          "output_type": "stream",
          "name": "stdout",
          "text": [
            "2.718281828459045\n"
          ]
        }
      ]
    },
    {
      "cell_type": "code",
      "source": [
        "a = np.array([[1,2,3,4],[3,4,5,6]])"
      ],
      "metadata": {
        "id": "fP_ON5ZXP7WA"
      },
      "execution_count": 73,
      "outputs": []
    },
    {
      "cell_type": "code",
      "source": [
        "np.exp(a)"
      ],
      "metadata": {
        "colab": {
          "base_uri": "https://localhost:8080/"
        },
        "id": "33wKvoQJP-E-",
        "outputId": "e072bcea-9ec6-4d25-da51-826adadd8375"
      },
      "execution_count": 74,
      "outputs": [
        {
          "output_type": "execute_result",
          "data": {
            "text/plain": [
              "array([[  2.71828183,   7.3890561 ,  20.08553692,  54.59815003],\n",
              "       [ 20.08553692,  54.59815003, 148.4131591 , 403.42879349]])"
            ]
          },
          "metadata": {},
          "execution_count": 74
        }
      ]
    },
    {
      "cell_type": "code",
      "source": [
        "# Pierwiastek kwadratowy\n",
        "np.sqrt(2)\n"
      ],
      "metadata": {
        "colab": {
          "base_uri": "https://localhost:8080/"
        },
        "id": "-ociPf3-PjQ2",
        "outputId": "794adbeb-d6d3-4087-b0c0-64200857d8b4"
      },
      "execution_count": 75,
      "outputs": [
        {
          "output_type": "execute_result",
          "data": {
            "text/plain": [
              "1.4142135623730951"
            ]
          },
          "metadata": {},
          "execution_count": 75
        }
      ]
    },
    {
      "cell_type": "code",
      "source": [
        "np.sqrt(3)"
      ],
      "metadata": {
        "colab": {
          "base_uri": "https://localhost:8080/"
        },
        "id": "0qFBUD88TvvM",
        "outputId": "a833c902-958d-40bf-abc5-6287c55cb7da"
      },
      "execution_count": 76,
      "outputs": [
        {
          "output_type": "execute_result",
          "data": {
            "text/plain": [
              "1.7320508075688772"
            ]
          },
          "metadata": {},
          "execution_count": 76
        }
      ]
    },
    {
      "cell_type": "code",
      "source": [
        "np.sqrt(9)"
      ],
      "metadata": {
        "colab": {
          "base_uri": "https://localhost:8080/"
        },
        "id": "wbUqnZJxT08G",
        "outputId": "8fb94a09-fd45-4703-b27a-66a92db3cb54"
      },
      "execution_count": 77,
      "outputs": [
        {
          "output_type": "execute_result",
          "data": {
            "text/plain": [
              "3.0"
            ]
          },
          "metadata": {},
          "execution_count": 77
        }
      ]
    },
    {
      "cell_type": "code",
      "source": [
        "# Zwraca True jeśli wszystkie elementy są True. Jeśli choć jeden element jest False, zwróci False\n",
        "np.all([8, 6, 1, 1, 9, 2, 3, 7, 5, 4])"
      ],
      "metadata": {
        "colab": {
          "base_uri": "https://localhost:8080/"
        },
        "id": "E0JcyZ7vUBxO",
        "outputId": "457d04d6-46bc-4695-91d6-d4d002c71943"
      },
      "execution_count": 78,
      "outputs": [
        {
          "output_type": "execute_result",
          "data": {
            "text/plain": [
              "True"
            ]
          },
          "metadata": {},
          "execution_count": 78
        }
      ]
    },
    {
      "cell_type": "code",
      "source": [
        "# Zwraca True jeśli choć jeden element zwróci True. False jeśli wszystkie zwracają False\n",
        "np.any([1,3,4,0,0,0])"
      ],
      "metadata": {
        "colab": {
          "base_uri": "https://localhost:8080/"
        },
        "id": "85lfpZxNVWDH",
        "outputId": "2ef95e91-88e5-410b-9d39-02e52e561c79"
      },
      "execution_count": 79,
      "outputs": [
        {
          "output_type": "execute_result",
          "data": {
            "text/plain": [
              "True"
            ]
          },
          "metadata": {},
          "execution_count": 79
        }
      ]
    },
    {
      "cell_type": "code",
      "source": [
        "np.any([0,0,0,0])"
      ],
      "metadata": {
        "colab": {
          "base_uri": "https://localhost:8080/"
        },
        "id": "Ab_NUJc5VZZK",
        "outputId": "56330187-c42d-4f93-860f-e6caadc9aae0"
      },
      "execution_count": 80,
      "outputs": [
        {
          "output_type": "execute_result",
          "data": {
            "text/plain": [
              "False"
            ]
          },
          "metadata": {},
          "execution_count": 80
        }
      ]
    },
    {
      "cell_type": "code",
      "source": [
        "np.any([0,0,0,1])"
      ],
      "metadata": {
        "colab": {
          "base_uri": "https://localhost:8080/"
        },
        "id": "R1hlES-bVd4n",
        "outputId": "a08a8663-90af-4a47-a680-a4d154e341ff"
      },
      "execution_count": 81,
      "outputs": [
        {
          "output_type": "execute_result",
          "data": {
            "text/plain": [
              "True"
            ]
          },
          "metadata": {},
          "execution_count": 81
        }
      ]
    },
    {
      "cell_type": "code",
      "source": [
        "A = np.random.rand(5)\n",
        "A"
      ],
      "metadata": {
        "colab": {
          "base_uri": "https://localhost:8080/"
        },
        "id": "6NCvv_81nvCh",
        "outputId": "e92c51db-ebec-4cdf-b28e-b31403bb0d47"
      },
      "execution_count": 82,
      "outputs": [
        {
          "output_type": "execute_result",
          "data": {
            "text/plain": [
              "array([0.87845219, 0.10286336, 0.09237389, 0.35404666, 0.55181626])"
            ]
          },
          "metadata": {},
          "execution_count": 82
        }
      ]
    },
    {
      "cell_type": "code",
      "source": [
        "A[np.argmax(A)]"
      ],
      "metadata": {
        "colab": {
          "base_uri": "https://localhost:8080/"
        },
        "id": "1t4-TVF3n1H1",
        "outputId": "c55267b9-ad79-4b2f-fd05-1b90aa06b851"
      },
      "execution_count": 83,
      "outputs": [
        {
          "output_type": "execute_result",
          "data": {
            "text/plain": [
              "0.878452190276042"
            ]
          },
          "metadata": {},
          "execution_count": 83
        }
      ]
    },
    {
      "cell_type": "code",
      "source": [
        "A[np.argmin(A)]"
      ],
      "metadata": {
        "colab": {
          "base_uri": "https://localhost:8080/"
        },
        "id": "bEEx1hQzoGcq",
        "outputId": "fef60dbb-a0c5-4605-c249-314960f43c05"
      },
      "execution_count": 84,
      "outputs": [
        {
          "output_type": "execute_result",
          "data": {
            "text/plain": [
              "0.0923738894608982"
            ]
          },
          "metadata": {},
          "execution_count": 84
        }
      ]
    },
    {
      "cell_type": "code",
      "source": [
        "np.argsort(A)"
      ],
      "metadata": {
        "colab": {
          "base_uri": "https://localhost:8080/"
        },
        "id": "jcstyQh5oMzT",
        "outputId": "29bae375-332f-4d94-eeb0-9c9680ef328f"
      },
      "execution_count": 85,
      "outputs": [
        {
          "output_type": "execute_result",
          "data": {
            "text/plain": [
              "array([2, 1, 3, 4, 0])"
            ]
          },
          "metadata": {},
          "execution_count": 85
        }
      ]
    },
    {
      "cell_type": "markdown",
      "source": [
        "\n",
        "\n",
        "```\n",
        "# Sformatowano jako kod\n",
        "```\n",
        "\n",
        "###Indeksowanie, Wycinanie"
      ],
      "metadata": {
        "id": "ZIRe7JlmbrMG"
      }
    },
    {
      "cell_type": "code",
      "source": [
        "A = np.arange(20)\n",
        "A"
      ],
      "metadata": {
        "colab": {
          "base_uri": "https://localhost:8080/"
        },
        "id": "GpgYRnWZWJTG",
        "outputId": "8a7827a7-8652-46f0-991c-6887642f6b83"
      },
      "execution_count": 86,
      "outputs": [
        {
          "output_type": "execute_result",
          "data": {
            "text/plain": [
              "array([ 0,  1,  2,  3,  4,  5,  6,  7,  8,  9, 10, 11, 12, 13, 14, 15, 16,\n",
              "       17, 18, 19])"
            ]
          },
          "metadata": {},
          "execution_count": 86
        }
      ]
    },
    {
      "cell_type": "code",
      "source": [
        "# A[index], A[start:stop:step], A[:stop], A[start:]"
      ],
      "metadata": {
        "id": "U3XwTJCmWcZ2"
      },
      "execution_count": 87,
      "outputs": []
    },
    {
      "cell_type": "code",
      "source": [
        "A[::2]"
      ],
      "metadata": {
        "colab": {
          "base_uri": "https://localhost:8080/"
        },
        "id": "Ie8R_AaqWsVX",
        "outputId": "838712be-7e87-4aac-acb7-3903ce4d535a"
      },
      "execution_count": 88,
      "outputs": [
        {
          "output_type": "execute_result",
          "data": {
            "text/plain": [
              "array([ 0,  2,  4,  6,  8, 10, 12, 14, 16, 18])"
            ]
          },
          "metadata": {},
          "execution_count": 88
        }
      ]
    },
    {
      "cell_type": "code",
      "source": [
        "B = A[-1:0:-2]\n",
        "B"
      ],
      "metadata": {
        "colab": {
          "base_uri": "https://localhost:8080/"
        },
        "id": "myQQ3IAYW8Bq",
        "outputId": "d4aa9a3b-ff71-4139-a370-2d70d7adfb7a"
      },
      "execution_count": 89,
      "outputs": [
        {
          "output_type": "execute_result",
          "data": {
            "text/plain": [
              "array([19, 17, 15, 13, 11,  9,  7,  5,  3,  1])"
            ]
          },
          "metadata": {},
          "execution_count": 89
        }
      ]
    },
    {
      "cell_type": "code",
      "source": [
        "# Wycinamy konkretne indexy podając listę indeksów\n",
        "A[[2,5,7]]"
      ],
      "metadata": {
        "colab": {
          "base_uri": "https://localhost:8080/"
        },
        "id": "6k6ntdTaXKsi",
        "outputId": "3926637d-66e1-4acd-f7ca-fb83ac4fd60b"
      },
      "execution_count": 90,
      "outputs": [
        {
          "output_type": "execute_result",
          "data": {
            "text/plain": [
              "array([2, 5, 7])"
            ]
          },
          "metadata": {},
          "execution_count": 90
        }
      ]
    },
    {
      "cell_type": "code",
      "source": [
        "A[3:7]"
      ],
      "metadata": {
        "colab": {
          "base_uri": "https://localhost:8080/"
        },
        "id": "GEkCgT3GYQc3",
        "outputId": "542125f6-e3c8-4615-eb4e-3556e41a9bc3"
      },
      "execution_count": 91,
      "outputs": [
        {
          "output_type": "execute_result",
          "data": {
            "text/plain": [
              "array([3, 4, 5, 6])"
            ]
          },
          "metadata": {},
          "execution_count": 91
        }
      ]
    },
    {
      "cell_type": "code",
      "source": [
        "  A = A.reshape(4,5)\n",
        "  A"
      ],
      "metadata": {
        "colab": {
          "base_uri": "https://localhost:8080/"
        },
        "id": "6XifTgQBYX8x",
        "outputId": "43b4f176-8566-4cd1-c42f-853390e937fb"
      },
      "execution_count": 92,
      "outputs": [
        {
          "output_type": "execute_result",
          "data": {
            "text/plain": [
              "array([[ 0,  1,  2,  3,  4],\n",
              "       [ 5,  6,  7,  8,  9],\n",
              "       [10, 11, 12, 13, 14],\n",
              "       [15, 16, 17, 18, 19]])"
            ]
          },
          "metadata": {},
          "execution_count": 92
        }
      ]
    },
    {
      "cell_type": "code",
      "source": [
        "# Jeśli chcemy zwrócić wiersz\n",
        "# A[Index Wiersza]\n",
        "A[0]"
      ],
      "metadata": {
        "colab": {
          "base_uri": "https://localhost:8080/"
        },
        "id": "IGpPi6SJYyRH",
        "outputId": "2bc6a856-f43b-47d5-f416-4d145956d7d9"
      },
      "execution_count": 93,
      "outputs": [
        {
          "output_type": "execute_result",
          "data": {
            "text/plain": [
              "array([0, 1, 2, 3, 4])"
            ]
          },
          "metadata": {},
          "execution_count": 93
        }
      ]
    },
    {
      "cell_type": "code",
      "source": [
        "# Jeśli chcemy zwócić kolumnę\n",
        "# A[:, index kolumny]\n",
        "A[:,0]"
      ],
      "metadata": {
        "colab": {
          "base_uri": "https://localhost:8080/"
        },
        "id": "Z1lxeak3Zw8x",
        "outputId": "fae1285a-0e6a-4085-af9f-1fb1252fa9eb"
      },
      "execution_count": 94,
      "outputs": [
        {
          "output_type": "execute_result",
          "data": {
            "text/plain": [
              "array([ 0,  5, 10, 15])"
            ]
          },
          "metadata": {},
          "execution_count": 94
        }
      ]
    },
    {
      "cell_type": "code",
      "source": [
        "# Jeśli chcemy wyciąć ostatnią kolumnę możemy użyć -1\n",
        "A[:,-1]"
      ],
      "metadata": {
        "colab": {
          "base_uri": "https://localhost:8080/"
        },
        "id": "YteQyt2XaCJ7",
        "outputId": "61d9d8e0-2838-44d6-8abf-2881f61fef94"
      },
      "execution_count": 95,
      "outputs": [
        {
          "output_type": "execute_result",
          "data": {
            "text/plain": [
              "array([ 4,  9, 14, 19])"
            ]
          },
          "metadata": {},
          "execution_count": 95
        }
      ]
    },
    {
      "cell_type": "code",
      "source": [
        "# Możemy oczywiście wyciąć konkretny element => np. 6 drugi wiersz i druga kolumna\n",
        "A[1,1]"
      ],
      "metadata": {
        "colab": {
          "base_uri": "https://localhost:8080/"
        },
        "id": "Rkp-J_Msafse",
        "outputId": "51f6b2cd-b434-44b1-f8c0-e4ba978fd5be"
      },
      "execution_count": 96,
      "outputs": [
        {
          "output_type": "execute_result",
          "data": {
            "text/plain": [
              "6"
            ]
          },
          "metadata": {},
          "execution_count": 96
        }
      ]
    },
    {
      "cell_type": "code",
      "source": [
        "# Jeśli chcemy wyciąć fragment podajemy zakresy\n",
        "A[1:2, 1:4]"
      ],
      "metadata": {
        "id": "VxuyujI0bChC",
        "colab": {
          "base_uri": "https://localhost:8080/"
        },
        "outputId": "e756d26f-d2de-4231-d07c-afe82ebb834f"
      },
      "execution_count": 97,
      "outputs": [
        {
          "output_type": "execute_result",
          "data": {
            "text/plain": [
              "array([[6, 7, 8]])"
            ]
          },
          "metadata": {},
          "execution_count": 97
        }
      ]
    },
    {
      "cell_type": "code",
      "source": [
        "# Możemy też prtzypisywać wartości\n",
        "A[1,2] = 29\n",
        "A"
      ],
      "metadata": {
        "colab": {
          "base_uri": "https://localhost:8080/"
        },
        "id": "AOtqW3VVcW3p",
        "outputId": "8eb3c346-98fe-4938-8fef-87cb10a7db4b"
      },
      "execution_count": 98,
      "outputs": [
        {
          "output_type": "execute_result",
          "data": {
            "text/plain": [
              "array([[ 0,  1,  2,  3,  4],\n",
              "       [ 5,  6, 29,  8,  9],\n",
              "       [10, 11, 12, 13, 14],\n",
              "       [15, 16, 17, 18, 19]])"
            ]
          },
          "metadata": {},
          "execution_count": 98
        }
      ]
    },
    {
      "cell_type": "markdown",
      "source": [
        "###Interacja po Tablicach"
      ],
      "metadata": {
        "id": "ORHJpHWLbyjK"
      }
    },
    {
      "cell_type": "code",
      "source": [
        "A"
      ],
      "metadata": {
        "colab": {
          "base_uri": "https://localhost:8080/"
        },
        "id": "mHts7HJyip1V",
        "outputId": "c4f70f74-eb69-49be-9f92-fd46eb62c86e"
      },
      "execution_count": 99,
      "outputs": [
        {
          "output_type": "execute_result",
          "data": {
            "text/plain": [
              "array([[ 0,  1,  2,  3,  4],\n",
              "       [ 5,  6, 29,  8,  9],\n",
              "       [10, 11, 12, 13, 14],\n",
              "       [15, 16, 17, 18, 19]])"
            ]
          },
          "metadata": {},
          "execution_count": 99
        }
      ]
    },
    {
      "cell_type": "code",
      "source": [
        "for i in A:\n",
        "  print(f'Wiersz: {i}')"
      ],
      "metadata": {
        "colab": {
          "base_uri": "https://localhost:8080/"
        },
        "id": "yJgC3PMhjDqX",
        "outputId": "c4a513b5-3c9e-4a9b-ca30-4a063f94cf23"
      },
      "execution_count": 101,
      "outputs": [
        {
          "output_type": "stream",
          "name": "stdout",
          "text": [
            "Wiersz: [0 1 2 3 4]\n",
            "Wiersz: [ 5  6 29  8  9]\n",
            "Wiersz: [10 11 12 13 14]\n",
            "Wiersz: [15 16 17 18 19]\n"
          ]
        }
      ]
    },
    {
      "cell_type": "code",
      "source": [
        "for row in A:\n",
        "  print(row[1])"
      ],
      "metadata": {
        "colab": {
          "base_uri": "https://localhost:8080/"
        },
        "id": "8kDI2qezjWn8",
        "outputId": "0fecff2a-24ca-4299-dfc1-dd2cf7fa7a42"
      },
      "execution_count": 102,
      "outputs": [
        {
          "output_type": "stream",
          "name": "stdout",
          "text": [
            "1\n",
            "6\n",
            "11\n",
            "16\n"
          ]
        }
      ]
    },
    {
      "cell_type": "code",
      "source": [
        "for row in A:\n",
        "  print(row[:3])"
      ],
      "metadata": {
        "colab": {
          "base_uri": "https://localhost:8080/"
        },
        "id": "O60OVBPIjkBD",
        "outputId": "39e6c268-8a66-4eda-cd8a-279e7f1b9715"
      },
      "execution_count": 103,
      "outputs": [
        {
          "output_type": "stream",
          "name": "stdout",
          "text": [
            "[0 1 2]\n",
            "[ 5  6 29]\n",
            "[10 11 12]\n",
            "[15 16 17]\n"
          ]
        }
      ]
    },
    {
      "cell_type": "code",
      "source": [
        "# używając atrybutu \".flat\" spłaszczamy tablicę dzięki czemu możemy iterować po każdym elemencie\n",
        "for item in A.flat:\n",
        "  print(item)"
      ],
      "metadata": {
        "colab": {
          "base_uri": "https://localhost:8080/"
        },
        "id": "q0DgKB4Aj3Pz",
        "outputId": "a061ccb1-190a-446c-dd68-addc1f1d3123"
      },
      "execution_count": 104,
      "outputs": [
        {
          "output_type": "stream",
          "name": "stdout",
          "text": [
            "0\n",
            "1\n",
            "2\n",
            "3\n",
            "4\n",
            "5\n",
            "6\n",
            "29\n",
            "8\n",
            "9\n",
            "10\n",
            "11\n",
            "12\n",
            "13\n",
            "14\n",
            "15\n",
            "16\n",
            "17\n",
            "18\n",
            "19\n"
          ]
        }
      ]
    },
    {
      "cell_type": "markdown",
      "source": [
        "###Zmiana rozmiaru tablic"
      ],
      "metadata": {
        "id": "8rOMttzyb9WL"
      }
    },
    {
      "cell_type": "code",
      "source": [
        "# Zwraca kształt tablicy.\n",
        "A.shape"
      ],
      "metadata": {
        "colab": {
          "base_uri": "https://localhost:8080/"
        },
        "id": "eqs-ApDL5p7F",
        "outputId": "34cd4576-0ac4-4872-9835-79b2c00b9630"
      },
      "execution_count": 105,
      "outputs": [
        {
          "output_type": "execute_result",
          "data": {
            "text/plain": [
              "(4, 5)"
            ]
          },
          "metadata": {},
          "execution_count": 105
        }
      ]
    },
    {
      "cell_type": "code",
      "source": [
        "# Jak wcześniej. Zmiana kształtu tablicy.\n",
        "A.reshape(5,4)"
      ],
      "metadata": {
        "colab": {
          "base_uri": "https://localhost:8080/"
        },
        "id": "vEJlhUQj5sJO",
        "outputId": "925147d1-3079-4a52-9a9c-7fb0081586c2"
      },
      "execution_count": 106,
      "outputs": [
        {
          "output_type": "execute_result",
          "data": {
            "text/plain": [
              "array([[ 0,  1,  2,  3],\n",
              "       [ 4,  5,  6, 29],\n",
              "       [ 8,  9, 10, 11],\n",
              "       [12, 13, 14, 15],\n",
              "       [16, 17, 18, 19]])"
            ]
          },
          "metadata": {},
          "execution_count": 106
        }
      ]
    },
    {
      "cell_type": "code",
      "source": [
        "A.flat"
      ],
      "metadata": {
        "colab": {
          "base_uri": "https://localhost:8080/"
        },
        "id": "iopaXXdF596s",
        "outputId": "e688156d-4595-43a3-f5c3-72bacd7ad724"
      },
      "execution_count": 110,
      "outputs": [
        {
          "output_type": "execute_result",
          "data": {
            "text/plain": [
              "<numpy.flatiter at 0x1d4b7d0>"
            ]
          },
          "metadata": {},
          "execution_count": 110
        }
      ]
    },
    {
      "cell_type": "code",
      "source": [
        "# Wypłaszczenie tablicy do jednego wymiaru.\n",
        "A.ravel()"
      ],
      "metadata": {
        "colab": {
          "base_uri": "https://localhost:8080/"
        },
        "id": "OSEhkK1959y6",
        "outputId": "9b23a9a0-0223-4e34-f175-9259db907ebd"
      },
      "execution_count": 108,
      "outputs": [
        {
          "output_type": "execute_result",
          "data": {
            "text/plain": [
              "array([ 0,  1,  2,  3,  4,  5,  6, 29,  8,  9, 10, 11, 12, 13, 14, 15, 16,\n",
              "       17, 18, 19])"
            ]
          },
          "metadata": {},
          "execution_count": 108
        }
      ]
    },
    {
      "cell_type": "code",
      "source": [
        "# Trablica została przetransponowana. Wiersze stały się kolumnami, a kolumny wierszami.\n",
        "A.T"
      ],
      "metadata": {
        "colab": {
          "base_uri": "https://localhost:8080/"
        },
        "id": "Z74djT0V6d0d",
        "outputId": "3563ea7f-768a-487d-974a-f5369dce3a5c"
      },
      "execution_count": 111,
      "outputs": [
        {
          "output_type": "execute_result",
          "data": {
            "text/plain": [
              "array([[ 0,  5, 10, 15],\n",
              "       [ 1,  6, 11, 16],\n",
              "       [ 2, 29, 12, 17],\n",
              "       [ 3,  8, 13, 18],\n",
              "       [ 4,  9, 14, 19]])"
            ]
          },
          "metadata": {},
          "execution_count": 111
        }
      ]
    },
    {
      "cell_type": "markdown",
      "source": [
        "###Maski Logiczne"
      ],
      "metadata": {
        "id": "81WROz8scBeh"
      }
    },
    {
      "cell_type": "code",
      "source": [
        "A = np.arange(start=-10, stop=10, step=0.5)\n",
        "A.shape"
      ],
      "metadata": {
        "colab": {
          "base_uri": "https://localhost:8080/"
        },
        "id": "4Hico48O706v",
        "outputId": "eb82dbb3-580c-49a6-decb-863948cafca7"
      },
      "execution_count": 114,
      "outputs": [
        {
          "output_type": "execute_result",
          "data": {
            "text/plain": [
              "(40,)"
            ]
          },
          "metadata": {},
          "execution_count": 114
        }
      ]
    },
    {
      "cell_type": "code",
      "source": [
        "A = A.reshape(10,-1)"
      ],
      "metadata": {
        "id": "sg8ompdj8GZw"
      },
      "execution_count": 118,
      "outputs": []
    },
    {
      "cell_type": "code",
      "source": [
        "A>0"
      ],
      "metadata": {
        "colab": {
          "base_uri": "https://localhost:8080/"
        },
        "id": "_OuhV6fr8Xa2",
        "outputId": "f32a9220-62ab-4276-beb8-61d00fbaf020"
      },
      "execution_count": 119,
      "outputs": [
        {
          "output_type": "execute_result",
          "data": {
            "text/plain": [
              "array([[False, False, False, False],\n",
              "       [False, False, False, False],\n",
              "       [False, False, False, False],\n",
              "       [False, False, False, False],\n",
              "       [False, False, False, False],\n",
              "       [False,  True,  True,  True],\n",
              "       [ True,  True,  True,  True],\n",
              "       [ True,  True,  True,  True],\n",
              "       [ True,  True,  True,  True],\n",
              "       [ True,  True,  True,  True]])"
            ]
          },
          "metadata": {},
          "execution_count": 119
        }
      ]
    },
    {
      "cell_type": "code",
      "source": [
        "# Możemy powyższy sposób wykorzystać do odsiania wartości mniejszych od zera\n",
        "A[A>0]"
      ],
      "metadata": {
        "colab": {
          "base_uri": "https://localhost:8080/"
        },
        "id": "J4iI7ft38t6W",
        "outputId": "f6f93ad2-3b01-480e-d19b-265571e920d6"
      },
      "execution_count": 120,
      "outputs": [
        {
          "output_type": "execute_result",
          "data": {
            "text/plain": [
              "array([0.5, 1. , 1.5, 2. , 2.5, 3. , 3.5, 4. , 4.5, 5. , 5.5, 6. , 6.5,\n",
              "       7. , 7.5, 8. , 8.5, 9. , 9.5])"
            ]
          },
          "metadata": {},
          "execution_count": 120
        }
      ]
    },
    {
      "cell_type": "code",
      "source": [
        "# Jeśli chcemy podać przedział, czyli podajemy dwa warunki używamy np.bitwise_and()\n",
        "np.bitwise_and(A>-5, A<5)"
      ],
      "metadata": {
        "colab": {
          "base_uri": "https://localhost:8080/"
        },
        "id": "YgtFtJDb-0Gw",
        "outputId": "d5c03f8e-4a1e-4f82-8040-3cd850be9c64"
      },
      "execution_count": 125,
      "outputs": [
        {
          "output_type": "execute_result",
          "data": {
            "text/plain": [
              "array([[False, False, False, False],\n",
              "       [False, False, False, False],\n",
              "       [False, False, False,  True],\n",
              "       [ True,  True,  True,  True],\n",
              "       [ True,  True,  True,  True],\n",
              "       [ True,  True,  True,  True],\n",
              "       [ True,  True,  True,  True],\n",
              "       [ True,  True, False, False],\n",
              "       [False, False, False, False],\n",
              "       [False, False, False, False]])"
            ]
          },
          "metadata": {},
          "execution_count": 125
        }
      ]
    },
    {
      "cell_type": "code",
      "source": [
        "A[np.bitwise_and(A>-5, A<5)]"
      ],
      "metadata": {
        "colab": {
          "base_uri": "https://localhost:8080/"
        },
        "id": "qpoBKFMs_Gxx",
        "outputId": "0e40ca4b-86b3-444e-a1fb-e112c7715dda"
      },
      "execution_count": 122,
      "outputs": [
        {
          "output_type": "execute_result",
          "data": {
            "text/plain": [
              "array([-4.5, -4. , -3.5, -3. , -2.5, -2. , -1.5, -1. , -0.5,  0. ,  0.5,\n",
              "        1. ,  1.5,  2. ,  2.5,  3. ,  3.5,  4. ,  4.5])"
            ]
          },
          "metadata": {},
          "execution_count": 122
        }
      ]
    },
    {
      "cell_type": "code",
      "source": [
        "# Mamy też do dyspozycji alternatywę: np.bitwise_or()\n",
        "np.bitwise_or(A<-5, A>5)"
      ],
      "metadata": {
        "colab": {
          "base_uri": "https://localhost:8080/"
        },
        "id": "gNIpQq_I_yrT",
        "outputId": "2b029f1d-d2d7-4931-c4d6-e6e18a2ed20d"
      },
      "execution_count": 123,
      "outputs": [
        {
          "output_type": "execute_result",
          "data": {
            "text/plain": [
              "array([[ True,  True,  True,  True],\n",
              "       [ True,  True,  True,  True],\n",
              "       [ True,  True, False, False],\n",
              "       [False, False, False, False],\n",
              "       [False, False, False, False],\n",
              "       [False, False, False, False],\n",
              "       [False, False, False, False],\n",
              "       [False, False, False,  True],\n",
              "       [ True,  True,  True,  True],\n",
              "       [ True,  True,  True,  True]])"
            ]
          },
          "metadata": {},
          "execution_count": 123
        }
      ]
    },
    {
      "cell_type": "markdown",
      "source": [
        "###Broadcasting"
      ],
      "metadata": {
        "id": "45A-50WQcE89"
      }
    }
  ]
}